{
  "nbformat": 4,
  "nbformat_minor": 0,
  "metadata": {
    "colab": {
      "provenance": []
    },
    "kernelspec": {
      "name": "python3",
      "display_name": "Python 3"
    },
    "language_info": {
      "name": "python"
    }
  },
  "cells": [
    {
      "cell_type": "code",
      "source": [
        "import requests\n",
        "from bs4 import BeautifulSoup"
      ],
      "metadata": {
        "id": "-M8PpwI6wUW4"
      },
      "execution_count": 36,
      "outputs": []
    },
    {
      "cell_type": "code",
      "source": [
        "import time"
      ],
      "metadata": {
        "id": "XRqZGe-vyq2F"
      },
      "execution_count": 19,
      "outputs": []
    },
    {
      "cell_type": "code",
      "source": [
        "start_time= time.time()"
      ],
      "metadata": {
        "id": "Es6JfQMEyv2_"
      },
      "execution_count": 20,
      "outputs": []
    },
    {
      "cell_type": "code",
      "source": [
        "pages = []"
      ],
      "metadata": {
        "id": "YtAIzXZ3y3uK"
      },
      "execution_count": 25,
      "outputs": []
    },
    {
      "cell_type": "code",
      "source": [
        "for page_number in range(1,5):\n",
        "  url_start= 'https://www.centralcharts.com/en/price-list-ranking/'\n",
        "  url_end= 'ALL/asc/ts_19-us-nasdaq-stocks--qc_1-alphabetical-order?p='\n",
        "  url = url_start + url_end + str(page_number)\n",
        "  pages.append(url)"
      ],
      "metadata": {
        "id": "RbmdtF6T0BBo"
      },
      "execution_count": 26,
      "outputs": []
    },
    {
      "cell_type": "code",
      "source": [
        "values_list = []"
      ],
      "metadata": {
        "id": "YxPJvYB54UGD"
      },
      "execution_count": 40,
      "outputs": []
    },
    {
      "cell_type": "code",
      "source": [
        "for page in pages:\n",
        "  webpage= requests.get(page)\n",
        "  soup= BeautifulSoup(webpage.text, 'html.parser')\n",
        "\n",
        "  stock_table= soup.find('table', class_='tabMini tabQuotes')\n",
        "  tr_tag_list= stock_table.find_all('tr')"
      ],
      "metadata": {
        "id": "M-kl4-l805aW"
      },
      "execution_count": 42,
      "outputs": []
    },
    {
      "cell_type": "code",
      "source": [
        "for each_tr_tag in tr_tag_list[1:]:\n",
        "  td_tag_list= each_tr_tag.find_all\n",
        "\n",
        "  row_values= []"
      ],
      "metadata": {
        "id": "M-5qxQak44TF"
      },
      "execution_count": 45,
      "outputs": []
    },
    {
      "cell_type": "code",
      "source": [
        "for each_td_tag in tr_tag_list[0:7]:\n",
        "  new_value= each_td_tag.text.strip()\n",
        "  row_values.append(new_value)\n",
        "values_list.append(row_values)"
      ],
      "metadata": {
        "id": "fGAgi-hk5W6Y"
      },
      "execution_count": 47,
      "outputs": []
    },
    {
      "cell_type": "code",
      "source": [
        "print(values_list)\n",
        "print('--- %s seconds ---'% (time.time() - start_time))"
      ],
      "metadata": {
        "colab": {
          "base_uri": "https://localhost:8080/"
        },
        "id": "Simf675b6lrI",
        "outputId": "b51178c0-98a9-4267-8d3a-9c9cbfbf0aed"
      },
      "execution_count": 50,
      "outputs": [
        {
          "output_type": "stream",
          "name": "stdout",
          "text": [
            "[['Financial instrument\\nCurrent price\\nChange(%)\\nOpen\\nHigh\\nLow\\nVolume\\nCap.\\nIssued Cap.', 'ADAPTHEALTH CORP.\\n\\n11.53 \\n-0.69%\\n11.48\\n11.86\\n11.39\\n1,740,037\\n-\\n-\\n\\nAI', 'ADAPTIMMUNE THERAPEUTICS PLC ADS\\n\\n0.784 \\n-4.85%\\n0.799\\n0.836\\n0.784\\n172,499\\n-\\n-\\n\\nAI', 'ADAPTIVE BIOTECHNOLOGIES\\n\\n6.22 \\n+1.63%\\n6.01\\n6.28\\n5.99\\n2,116,365\\n-\\n-\\n\\nAI', 'ADDENTAX GROUP CORP.\\n\\n2.16 \\n-4.00%\\n2.28\\n2.28\\n2.08\\n28,123\\n-\\n-\\n\\nAI', 'ADDEX THERAPEUTICS LTD ADS\\n\\n0.516 \\n-1.90%\\n0.530\\n0.530\\n0.516\\n459\\n-\\n-\\n\\nAI', 'ADDUS HOMECARE CORP.\\n\\n91.12 \\n+1.12%\\n89.52\\n91.85\\n89.52\\n113,165\\n-\\n-\\n\\nAI']]\n",
            "--- 2283.12038397789 seconds ---\n"
          ]
        }
      ]
    }
  ]
}